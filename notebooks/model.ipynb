{
 "cells": [
  {
   "cell_type": "markdown",
   "metadata": {},
   "source": [
    "## Machine learning"
   ]
  },
  {
   "cell_type": "code",
   "execution_count": null,
   "metadata": {},
   "outputs": [],
   "source": [
    "import pandas as pd\n",
    "from sklearn.model_selection import train_test_split\n",
    "from sklearn.linear_model import LinearRegression\n",
    "from sklearn.metrics import mean_squared_error\n",
    "import matplotlib.pyplot as plt\n"
   ]
  },
  {
   "cell_type": "code",
   "execution_count": null,
   "metadata": {},
   "outputs": [],
   "source": [
    "# Assuming df is your DataFrame with the movie data\n",
    "# Select features and target variable\n",
    "features = ['Director', 'Genre', 'Release Date', 'Studio', 'Budget ($mill)', 'IMDb Rating', 'MovieLens Rating', 'Runtime (min)']\n",
    "target = 'Gross ($mill)'\n",
    "\n",
    "# Extract relevant columns\n",
    "df_subset = df[features + [target]]\n",
    "\n",
    "# Convert the 'Budget ($mill)' column to string and then remove commas and convert to float\n",
    "df_subset['Budget ($mill)'] = df_subset['Budget ($mill)'].astype(str).str.replace(',', '').astype(float)\n",
    "df_subset['Gross ($mill)'] = df_subset['Gross ($mill)'].astype(str).str.replace(',', '').astype(float)\n"
   ]
  },
  {
   "cell_type": "code",
   "execution_count": null,
   "metadata": {},
   "outputs": [],
   "source": [
    "# Drop rows with missing values\n",
    "df_subset = df_subset.dropna()\n",
    "\n",
    "# Convert categorical variables to numerical using one-hot encoding\n",
    "df_subset = pd.get_dummies(df_subset, columns=['Director', 'Genre', 'Release Date', 'Studio'])\n",
    "\n",
    "# Split the data into features and target variable\n",
    "X = df_subset.drop(target, axis=1)\n",
    "y = df_subset[target]\n",
    "\n",
    "# Split the data into training and testing sets\n",
    "X_train, X_test, y_train, y_test = train_test_split(X, y, test_size=0.2, random_state=42)\n"
   ]
  }
 ],
 "metadata": {
  "kernelspec": {
   "display_name": "EDA",
   "language": "python",
   "name": "python3"
  },
  "language_info": {
   "codemirror_mode": {
    "name": "ipython",
    "version": 3
   },
   "file_extension": ".py",
   "mimetype": "text/x-python",
   "name": "python",
   "nbconvert_exporter": "python",
   "pygments_lexer": "ipython3",
   "version": "3.12.2"
  }
 },
 "nbformat": 4,
 "nbformat_minor": 2
}
